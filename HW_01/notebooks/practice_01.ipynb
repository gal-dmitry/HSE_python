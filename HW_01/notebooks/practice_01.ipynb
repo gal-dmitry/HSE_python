{
 "cells": [
  {
   "cell_type": "code",
   "execution_count": 1,
   "id": "94eb69f7",
   "metadata": {},
   "outputs": [
    {
     "name": "stdout",
     "output_type": "stream",
     "text": [
      "[('utf-8', 'ENCODING'), ('print', 'NAME'), ('(', 'OP'), ('222', 'NUMBER'), ('*', 'OP'), ('555', 'NUMBER'), (')', 'OP'), ('', 'NEWLINE'), ('', 'ENDMARKER')]\n"
     ]
    }
   ],
   "source": [
    "from tokenize import tokenize \n",
    "from io import BytesIO\n",
    "from token import tok_name\n",
    "\n",
    "code_string = 'print(222*555)'\n",
    "tokens = tokenize(BytesIO(code_string.encode('utf-8')).readline)\n",
    "print([(token.string, tok_name[token.type]) for token in tokens])"
   ]
  },
  {
   "cell_type": "code",
   "execution_count": 2,
   "id": "73d9f1f2",
   "metadata": {},
   "outputs": [],
   "source": [
    "# def to_power(a, b):\n",
    "#     return a**b\n",
    "\n",
    "# del to_power"
   ]
  },
  {
   "cell_type": "code",
   "execution_count": 4,
   "id": "2de48fe7",
   "metadata": {},
   "outputs": [
    {
     "name": "stdout",
     "output_type": "stream",
     "text": [
      "Module(body=[FunctionDef(name='to_power', args=arguments(posonlyargs=[], args=[arg(arg='a'), arg(arg='b')], kwonlyargs=[], kw_defaults=[], defaults=[]), body=[Return(value=BinOp(left=Name(id='a', ctx=Load()), op=Pow(), right=Name(id='b', ctx=Load())))], decorator_list=[])], type_ignores=[])\n"
     ]
    }
   ],
   "source": [
    "import ast\n",
    "ast_object = ast.parse(\"def to_power(a, b): return a**b;\")\n",
    "print(ast.dump(ast_object))"
   ]
  },
  {
   "cell_type": "code",
   "execution_count": 5,
   "id": "ec9795a2",
   "metadata": {},
   "outputs": [
    {
     "name": "stdout",
     "output_type": "stream",
     "text": [
      "  1           0 LOAD_NAME                0 (print)\n",
      "              2 LOAD_CONST               0 (123)\n",
      "              4 CALL_FUNCTION            1\n",
      "              6 RETURN_VALUE\n"
     ]
    }
   ],
   "source": [
    "import dis\n",
    "dis.dis('print(123)')"
   ]
  },
  {
   "cell_type": "code",
   "execution_count": 6,
   "id": "bc5b7b1b",
   "metadata": {},
   "outputs": [
    {
     "data": {
      "text/plain": [
       "3681"
      ]
     },
     "execution_count": 6,
     "metadata": {},
     "output_type": "execute_result"
    }
   ],
   "source": [
    "import sys\n",
    "m = 1\n",
    "sys.getrefcount(m)"
   ]
  },
  {
   "cell_type": "code",
   "execution_count": null,
   "id": "046427bf",
   "metadata": {},
   "outputs": [],
   "source": []
  }
 ],
 "metadata": {
  "kernelspec": {
   "display_name": "Python 3 (ipykernel)",
   "language": "python",
   "name": "python3"
  },
  "language_info": {
   "codemirror_mode": {
    "name": "ipython",
    "version": 3
   },
   "file_extension": ".py",
   "mimetype": "text/x-python",
   "name": "python",
   "nbconvert_exporter": "python",
   "pygments_lexer": "ipython3",
   "version": "3.9.10"
  }
 },
 "nbformat": 4,
 "nbformat_minor": 5
}
